{
  "nbformat": 4,
  "nbformat_minor": 0,
  "metadata": {
    "colab": {
      "name": "Operations and Expressions.ipynb",
      "provenance": [],
      "authorship_tag": "ABX9TyOyaNbD8ZyaBGhdZsmXQ7zK",
      "include_colab_link": true
    },
    "kernelspec": {
      "name": "python3",
      "display_name": "Python 3"
    },
    "language_info": {
      "name": "python"
    }
  },
  "cells": [
    {
      "cell_type": "markdown",
      "metadata": {
        "id": "view-in-github",
        "colab_type": "text"
      },
      "source": [
        "<a href=\"https://colab.research.google.com/github/Krystiandres/OOP-58001/blob/main/Operations_and_Expressions.ipynb\" target=\"_parent\"><img src=\"https://colab.research.google.com/assets/colab-badge.svg\" alt=\"Open In Colab\"/></a>"
      ]
    },
    {
      "cell_type": "markdown",
      "source": [
        "#Boolean Oprators"
      ],
      "metadata": {
        "id": "GWW3Dzockh3D"
      }
    },
    {
      "cell_type": "code",
      "execution_count": null,
      "metadata": {
        "colab": {
          "base_uri": "https://localhost:8080/"
        },
        "id": "Khogktk5kSN4",
        "outputId": "f321028e-6070-4405-8729-eb5ef074bdb3"
      },
      "outputs": [
        {
          "output_type": "stream",
          "name": "stdout",
          "text": [
            "True\n",
            "False\n",
            "True\n",
            "False\n"
          ]
        }
      ],
      "source": [
        "print(10>9)\n",
        "print(10==9)\n",
        "print(10!=9)\n",
        "print(10<9)"
      ]
    },
    {
      "cell_type": "markdown",
      "source": [
        "bool() Function"
      ],
      "metadata": {
        "id": "Nx6zT2rsmDrL"
      }
    },
    {
      "cell_type": "code",
      "source": [
        "print(bool(\"Lance\"))\n",
        "print(bool(239))\n",
        "print(bool())\n",
        "print(bool(0))\n",
        "print(bool(1))\n",
        "print(bool(None))\n",
        "print(bool(False))"
      ],
      "metadata": {
        "colab": {
          "base_uri": "https://localhost:8080/"
        },
        "id": "H2enxo4nmChD",
        "outputId": "0a04ff93-f0d3-4fac-bf94-adc63627c345"
      },
      "execution_count": null,
      "outputs": [
        {
          "output_type": "stream",
          "name": "stdout",
          "text": [
            "True\n",
            "True\n",
            "False\n",
            "False\n",
            "True\n",
            "False\n",
            "False\n"
          ]
        }
      ]
    },
    {
      "cell_type": "markdown",
      "source": [
        "Function can return Boolean\n",
        "\n"
      ],
      "metadata": {
        "id": "37lNQNXpm5vu"
      }
    },
    {
      "cell_type": "code",
      "source": [
        "def myFunction():\n",
        "  return True\n",
        "\n",
        "print(myFunction())\n"
      ],
      "metadata": {
        "colab": {
          "base_uri": "https://localhost:8080/"
        },
        "id": "Z_y98BJ0m9QU",
        "outputId": "233ccd5b-fdb9-494d-91fe-40803389999b"
      },
      "execution_count": 1,
      "outputs": [
        {
          "output_type": "stream",
          "name": "stdout",
          "text": [
            "True\n"
          ]
        }
      ]
    },
    {
      "cell_type": "code",
      "source": [
        "if myFunction():\n",
        "  print(\"Yes!\")\n",
        "else:\n",
        "  print(\"No!\")"
      ],
      "metadata": {
        "colab": {
          "base_uri": "https://localhost:8080/"
        },
        "id": "_59EDy-5nxQT",
        "outputId": "3a25c00c-791a-4735-ef5f-291291d2d3a0"
      },
      "execution_count": 2,
      "outputs": [
        {
          "output_type": "stream",
          "name": "stdout",
          "text": [
            "Yes!\n"
          ]
        }
      ]
    },
    {
      "cell_type": "markdown",
      "source": [
        "Application 1"
      ],
      "metadata": {
        "id": "fxkzAZuUl6Dv"
      }
    },
    {
      "cell_type": "code",
      "source": [
        "print(10>9)\n",
        "\n",
        "a=60\n",
        "b=13\n",
        "print(a==b)\n",
        "print(a!=b)"
      ],
      "metadata": {
        "colab": {
          "base_uri": "https://localhost:8080/"
        },
        "id": "LCA3z-Cpo2EW",
        "outputId": "01c775f0-e28d-45ce-9b64-eeecc00f821e"
      },
      "execution_count": 3,
      "outputs": [
        {
          "output_type": "stream",
          "name": "stdout",
          "text": [
            "True\n",
            "False\n",
            "True\n"
          ]
        }
      ]
    },
    {
      "cell_type": "markdown",
      "source": [
        "Python Operators"
      ],
      "metadata": {
        "id": "kXpWSkPQmBXh"
      }
    },
    {
      "cell_type": "code",
      "source": [
        "print(10+3)\n",
        "print(10 - 3)\n",
        "print(10*3)\n",
        "print(10/3)\n",
        "print(10 % 3)\n",
        "print(10//3)"
      ],
      "metadata": {
        "colab": {
          "base_uri": "https://localhost:8080/"
        },
        "id": "7_l3gGVIqSF_",
        "outputId": "89f0cf6d-da53-4a74-a17f-2bd2c20b91f0"
      },
      "execution_count": 4,
      "outputs": [
        {
          "output_type": "stream",
          "name": "stdout",
          "text": [
            "13\n",
            "7\n",
            "30\n",
            "3.3333333333333335\n",
            "1\n",
            "3\n"
          ]
        }
      ]
    },
    {
      "cell_type": "markdown",
      "source": [
        "Python Operators"
      ],
      "metadata": {
        "id": "8wMc0LQvrjgu"
      }
    },
    {
      "cell_type": "code",
      "source": [
        "print(10+3)\n",
        "print(10-3)\n",
        "print(10*3)\n",
        "print(10//3)\n",
        "print(10%3)\n",
        "print(10/3)"
      ],
      "metadata": {
        "colab": {
          "base_uri": "https://localhost:8080/"
        },
        "id": "fe6HZ6lQrixF",
        "outputId": "feb90edf-8f7c-4bc2-f867-75d903546d3b"
      },
      "execution_count": null,
      "outputs": [
        {
          "output_type": "stream",
          "name": "stdout",
          "text": [
            "13\n",
            "7\n",
            "30\n",
            "3\n",
            "1\n",
            "3.3333333333333335\n"
          ]
        }
      ]
    },
    {
      "cell_type": "markdown",
      "source": [
        "Bitwise Operators"
      ],
      "metadata": {
        "id": "74meD_nRsBer"
      }
    },
    {
      "cell_type": "code",
      "source": [
        "#a=60, binary 0011 1100\n",
        "#b=13, binary 0000 1101\n",
        "\n",
        "print(a&b)\n",
        "print(a|b)\n",
        "print(a^b)\n",
        "print(a<<b)\n",
        "print(a>>b)"
      ],
      "metadata": {
        "colab": {
          "base_uri": "https://localhost:8080/"
        },
        "id": "zQ1dxGtvmHnc",
        "outputId": "4067839d-e074-44e5-d9e3-f1be03b5af4e"
      },
      "execution_count": 5,
      "outputs": [
        {
          "output_type": "stream",
          "name": "stdout",
          "text": [
            "12\n",
            "61\n",
            "49\n",
            "491520\n",
            "0\n"
          ]
        }
      ]
    },
    {
      "cell_type": "markdown",
      "source": [
        "Application 2"
      ],
      "metadata": {
        "id": "7b5xNOT-vqrk"
      }
    },
    {
      "cell_type": "markdown",
      "source": [
        "Assignment Operators"
      ],
      "metadata": {
        "id": "BaAmCIuKmW8N"
      }
    },
    {
      "cell_type": "code",
      "source": [
        "a+=3 #Same As a = a+3\n",
        "a-=3 #Same As a = a-3\n",
        "a*=3 #Same As a = a*3\n",
        "a/=3 #Same As a = a/3\n",
        "a%=3 #Same As a = a%3"
      ],
      "metadata": {
        "id": "Wa21jcO6voJn"
      },
      "execution_count": 7,
      "outputs": []
    },
    {
      "cell_type": "markdown",
      "source": [
        "Logical Operators"
      ],
      "metadata": {
        "id": "-ixe5gt7x--S"
      }
    },
    {
      "cell_type": "code",
      "source": [
        "k = True \n",
        "l = False \n",
        "print(k and l)\n",
        "print(k or l)\n",
        "print(not(k or l))"
      ],
      "metadata": {
        "colab": {
          "base_uri": "https://localhost:8080/"
        },
        "id": "9lVytH7tx-WH",
        "outputId": "a77587c5-f11d-4553-f6e3-2bf6422825e4"
      },
      "execution_count": 13,
      "outputs": [
        {
          "output_type": "stream",
          "name": "stdout",
          "text": [
            "False\n",
            "True\n",
            "False\n"
          ]
        }
      ]
    },
    {
      "cell_type": "markdown",
      "source": [
        "Identity Operators"
      ],
      "metadata": {
        "id": "vF75SChSyyXJ"
      }
    },
    {
      "cell_type": "code",
      "source": [
        "print(k is l)\n",
        "print(k is not l)"
      ],
      "metadata": {
        "colab": {
          "base_uri": "https://localhost:8080/"
        },
        "id": "mBZ26cNLmjEa",
        "outputId": "6baf4efa-ef23-4736-fdf9-eff59a415b2e"
      },
      "execution_count": 14,
      "outputs": [
        {
          "output_type": "stream",
          "name": "stdout",
          "text": [
            "False\n",
            "True\n"
          ]
        }
      ]
    },
    {
      "cell_type": "markdown",
      "source": [
        "#Control Structure"
      ],
      "metadata": {
        "id": "wqV-k1Xhz4mW"
      }
    },
    {
      "cell_type": "code",
      "source": [
        "v = 1\n",
        "z = 1\n",
        "\n",
        "if v<z:\n",
        "  print(\"1 is less than 2\")"
      ],
      "metadata": {
        "id": "6cG1ZQeRnE1q"
      },
      "execution_count": 15,
      "outputs": []
    },
    {
      "cell_type": "markdown",
      "source": [
        "Elif Statement"
      ],
      "metadata": {
        "id": "m0JhEBdt0Lwk"
      }
    },
    {
      "cell_type": "code",
      "source": [
        "if v<z:\n",
        "  print(\"v is less than z\")\n",
        "elif v>z:\n",
        "  print(\"v is greater than z\")"
      ],
      "metadata": {
        "id": "8fM5zuF10OJT",
        "outputId": "48bd320e-4480-4de6-caa0-cba04e1bcb00",
        "colab": {
          "base_uri": "https://localhost:8080/"
        }
      },
      "execution_count": null,
      "outputs": [
        {
          "output_type": "stream",
          "name": "stdout",
          "text": [
            "v is less than z\n"
          ]
        }
      ]
    },
    {
      "cell_type": "markdown",
      "source": [
        "Else Statement"
      ],
      "metadata": {
        "id": "52qkCRfP0tG9"
      }
    },
    {
      "cell_type": "code",
      "source": [
        "number = int(input()) #to know if the number is positive or negative\n",
        "\n",
        "if number>0:\n",
        "  print(\"positive\")\n",
        "elif number<0:\n",
        "  print(\"negative\")\n",
        "else:\n",
        "  print(\"0\")"
      ],
      "metadata": {
        "id": "1R4aLoN-0yUw",
        "colab": {
          "base_uri": "https://localhost:8080/"
        },
        "outputId": "25434f82-0eeb-4712-944d-f3d0a51586a6"
      },
      "execution_count": null,
      "outputs": [
        {
          "output_type": "stream",
          "name": "stdout",
          "text": [
            "33\n",
            "positive\n"
          ]
        }
      ]
    },
    {
      "cell_type": "markdown",
      "source": [
        "Application 3 - Develop a Phython program that will accept if a person is entitled to vote or not"
      ],
      "metadata": {
        "id": "a1tiWl2NoRpk"
      }
    },
    {
      "cell_type": "code",
      "source": [
        "age = int(input())\n",
        "\n",
        "if age >= 18:\n",
        "  print(\"You are qulifed to vote\")\n",
        "else:\n",
        "  print(\"you are not qualified to vote\")"
      ],
      "metadata": {
        "id": "aG3RDz4x4CG7",
        "colab": {
          "base_uri": "https://localhost:8080/"
        },
        "outputId": "6a6d5d88-c3f0-4b7d-9b80-27337908473d"
      },
      "execution_count": 17,
      "outputs": [
        {
          "output_type": "stream",
          "name": "stdout",
          "text": [
            "12\n",
            "you are not qualified to vote\n"
          ]
        }
      ]
    },
    {
      "cell_type": "markdown",
      "source": [
        "Nested If.. Else"
      ],
      "metadata": {
        "id": "DXIBzUcj4MQl"
      }
    },
    {
      "cell_type": "code",
      "source": [
        "u=int(input())\n",
        "if u>10:\n",
        "  print(\"u is above 10\")\n",
        "if u>20:\n",
        "  print(\"u is above 20\")\n",
        "if u>30:\n",
        "  print(\"u is above 30\")\n",
        "if u>40:\n",
        "  print(\"u is above 40\")\n",
        "if u>50:\n",
        "  print(\"u is above 50\")\n",
        "else:\n",
        "  print(\"u is less tha 50\")\n"
      ],
      "metadata": {
        "colab": {
          "base_uri": "https://localhost:8080/"
        },
        "id": "8evOZnOo4RQy",
        "outputId": "b6cddc8b-55f2-4f10-c594-2db3c09c4490"
      },
      "execution_count": null,
      "outputs": [
        {
          "output_type": "stream",
          "name": "stdout",
          "text": [
            "50\n",
            "u is above 10\n",
            "u is above 20\n",
            "u is above 30\n",
            "u is above 40\n",
            "u is less tha 50\n"
          ]
        }
      ]
    },
    {
      "cell_type": "markdown",
      "source": [
        "#Loop Structure"
      ],
      "metadata": {
        "id": "OUC5l6tI62J4"
      }
    },
    {
      "cell_type": "code",
      "source": [
        "week=[\"Sunday\",\"Monday\", \"Tuesday\",\"Wednesday\",\"Thursday\",\"Friday\",\"Saturday\"]\n",
        "season=[\"rainy\", \"sunny\"]\n",
        "for x in week:\n",
        "  for y in season:\n",
        "    print(y,x)"
      ],
      "metadata": {
        "colab": {
          "base_uri": "https://localhost:8080/"
        },
        "id": "ERIV1d7g7A2W",
        "outputId": "41e74146-4b66-44ad-e9e6-793834ffec20"
      },
      "execution_count": null,
      "outputs": [
        {
          "output_type": "stream",
          "name": "stdout",
          "text": [
            "rainy Sunday\n",
            "sunny Sunday\n",
            "rainy Monday\n",
            "sunny Monday\n",
            "rainy Tuesday\n",
            "sunny Tuesday\n",
            "rainy Wednesday\n",
            "sunny Wednesday\n",
            "rainy Thursday\n",
            "sunny Thursday\n",
            "rainy Friday\n",
            "sunny Friday\n",
            "rainy Saturday\n",
            "sunny Saturday\n"
          ]
        }
      ]
    },
    {
      "cell_type": "markdown",
      "source": [
        "The break statement"
      ],
      "metadata": {
        "id": "FV0mzbwX8_2x"
      }
    },
    {
      "cell_type": "code",
      "source": [
        "for x in week:\n",
        "  if x == \"Thursday\":\n",
        "    break\n",
        "print(x)"
      ],
      "metadata": {
        "colab": {
          "base_uri": "https://localhost:8080/"
        },
        "id": "g7fnuC4Z9D1z",
        "outputId": "f85bf940-434c-42a7-ce70-b61779155a65"
      },
      "execution_count": null,
      "outputs": [
        {
          "output_type": "stream",
          "name": "stdout",
          "text": [
            "Thursday\n"
          ]
        }
      ]
    },
    {
      "cell_type": "code",
      "source": [
        "for x in week:\n",
        "  if x == \"Thursday\":\n",
        "    break\n",
        "  print(x)"
      ],
      "metadata": {
        "colab": {
          "base_uri": "https://localhost:8080/"
        },
        "id": "nI5ssvfX-yYi",
        "outputId": "63ce946e-4e3d-43cb-9f93-47839b4c2dc3"
      },
      "execution_count": null,
      "outputs": [
        {
          "output_type": "stream",
          "name": "stdout",
          "text": [
            "Sunday\n",
            "Monday\n",
            "Tuesday\n",
            "Wednesday\n"
          ]
        }
      ]
    },
    {
      "cell_type": "code",
      "source": [
        "# To display Sunday to Thursday\n",
        "\n",
        "for x in week:\n",
        "  print(x)\n",
        "  if x==\"Thursday\":\n",
        "    break"
      ],
      "metadata": {
        "colab": {
          "base_uri": "https://localhost:8080/"
        },
        "id": "NQpvIYiV_Sh-",
        "outputId": "304bfc33-4fc4-4429-c66b-fd30c0224ad4"
      },
      "execution_count": null,
      "outputs": [
        {
          "output_type": "stream",
          "name": "stdout",
          "text": [
            "Sunday\n",
            "Monday\n",
            "Tuesday\n",
            "Wednesday\n",
            "Thursday\n"
          ]
        }
      ]
    },
    {
      "cell_type": "markdown",
      "source": [
        "While loop"
      ],
      "metadata": {
        "id": "LtQkdTePAjzX"
      }
    },
    {
      "cell_type": "code",
      "source": [
        "i=1\n",
        "while i<6:\n",
        "  print(i)\n",
        "  i+=1"
      ],
      "metadata": {
        "colab": {
          "base_uri": "https://localhost:8080/"
        },
        "id": "YxgNQlmbAjEe",
        "outputId": "e41c960b-77f9-41b1-8103-63a0a4beee20"
      },
      "execution_count": null,
      "outputs": [
        {
          "output_type": "stream",
          "name": "stdout",
          "text": [
            "1\n",
            "2\n",
            "3\n",
            "4\n",
            "5\n"
          ]
        }
      ]
    },
    {
      "cell_type": "markdown",
      "source": [
        "Application 4 Create a python program that displays number from 1 to 4 using while loop statement"
      ],
      "metadata": {
        "id": "iXyRFWYDBLeQ"
      }
    },
    {
      "cell_type": "code",
      "source": [
        "j = 1\n",
        "while j<=4:\n",
        "  print(j)\n",
        "  j+=1"
      ],
      "metadata": {
        "colab": {
          "base_uri": "https://localhost:8080/"
        },
        "id": "vFcRHyBfA95A",
        "outputId": "83d5180f-c334-4b6e-f76d-02a13cae8758"
      },
      "execution_count": null,
      "outputs": [
        {
          "output_type": "stream",
          "name": "stdout",
          "text": [
            "1\n",
            "2\n",
            "3\n",
            "4\n"
          ]
        }
      ]
    },
    {
      "cell_type": "markdown",
      "source": [
        "Application 5 Create a python program that displays number 4 using while loop statement"
      ],
      "metadata": {
        "id": "awwJhepFA9la"
      }
    },
    {
      "cell_type": "code",
      "source": [
        "j = 1\n",
        "while j<=4:\n",
        "  if j==4:\n",
        "    print(j)\n",
        "  j+=1"
      ],
      "metadata": {
        "colab": {
          "base_uri": "https://localhost:8080/"
        },
        "id": "_yIceBgjBgdG",
        "outputId": "e190002a-b470-4745-f6b2-9b49185a8ec8"
      },
      "execution_count": null,
      "outputs": [
        {
          "output_type": "stream",
          "name": "stdout",
          "text": [
            "4\n"
          ]
        }
      ]
    }
  ]
}