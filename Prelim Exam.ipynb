{
  "nbformat": 4,
  "nbformat_minor": 0,
  "metadata": {
    "colab": {
      "name": "Prelim Exam.ipynb",
      "provenance": [],
      "authorship_tag": "ABX9TyN3W6LGCE7s5Bjx7gFze9IM",
      "include_colab_link": true
    },
    "kernelspec": {
      "name": "python3",
      "display_name": "Python 3"
    },
    "language_info": {
      "name": "python"
    }
  },
  "cells": [
    {
      "cell_type": "markdown",
      "metadata": {
        "id": "view-in-github",
        "colab_type": "text"
      },
      "source": [
        "<a href=\"https://colab.research.google.com/github/Krystiandres/OOP-58001/blob/main/Prelim%20Exam.ipynb\" target=\"_parent\"><img src=\"https://colab.research.google.com/assets/colab-badge.svg\" alt=\"Open In Colab\"/></a>"
      ]
    },
    {
      "cell_type": "code",
      "execution_count": 17,
      "metadata": {
        "colab": {
          "base_uri": "https://localhost:8080/"
        },
        "id": "xcshmFiOE1K2",
        "outputId": "4596098a-cf3c-4f08-c10a-926e4706bbe5"
      },
      "outputs": [
        {
          "output_type": "stream",
          "name": "stdout",
          "text": [
            "Andres, Lance Krystian 202114719 19 Adamson University  BS Computer Engineering\n"
          ]
        }
      ],
      "source": [
        "class Student:\n",
        "  def __init__ (self, name, studentnum, age, school, course):\n",
        "    self.studentnum = studentnum\n",
        "    self.name= name\n",
        "    self.age= age\n",
        "    self.school = school\n",
        "    self.course = course\n",
        "\n",
        "  def thestudent(self):\n",
        "    return self.name + self.studentnum + self.age + self.school + self.course\n",
        "  def section(self):\n",
        "    print(self.thestudent())\n",
        "\n",
        "name = Student (\"Andres, Lance Krystian \", \"202114719 \", \"19 \", \"Adamson University \", \" BS Computer Engineering\")\n",
        "name.section()\n"
      ]
    }
  ]
}