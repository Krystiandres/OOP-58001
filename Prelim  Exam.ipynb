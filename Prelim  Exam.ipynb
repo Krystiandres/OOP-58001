{
  "nbformat": 4,
  "nbformat_minor": 0,
  "metadata": {
    "colab": {
      "name": "Prelim Exam.ipynb",
      "provenance": [],
      "authorship_tag": "ABX9TyOVwCJLWPS0kxVyN3P/6gH8",
      "include_colab_link": true
    },
    "kernelspec": {
      "name": "python3",
      "display_name": "Python 3"
    },
    "language_info": {
      "name": "python"
    }
  },
  "cells": [
    {
      "cell_type": "markdown",
      "metadata": {
        "id": "view-in-github",
        "colab_type": "text"
      },
      "source": [
        "<a href=\"https://colab.research.google.com/github/Krystiandres/OOP-58001/blob/main/Prelim%20%20Exam.ipynb\" target=\"_parent\"><img src=\"https://colab.research.google.com/assets/colab-badge.svg\" alt=\"Open In Colab\"/></a>"
      ]
    },
    {
      "cell_type": "code",
      "execution_count": 21,
      "metadata": {
        "colab": {
          "base_uri": "https://localhost:8080/"
        },
        "id": "xcshmFiOE1K2",
        "outputId": "a30ff70b-0de2-4c21-8cd1-37d05efb6d7d"
      },
      "outputs": [
        {
          "output_type": "stream",
          "name": "stdout",
          "text": [
            "Andres, Lance Krystian 202114719 19 Adamson University  BS Computer Engineering\n"
          ]
        }
      ],
      "source": [
        "class Student:\n",
        "  def __init__ (self, name, studentnum, age, school, course):\n",
        "    self.studentnum = studentnum\n",
        "    self.name= name\n",
        "    self.age= age\n",
        "    self.school = school\n",
        "    self.course = course\n",
        "\n",
        "  def self(self):\n",
        "    return self.name + self.studentnum + self.age + self.school + self.course\n",
        "  def data(self):\n",
        "    print(self.self())\n",
        "\n",
        "Myself = Student (\"Andres, Lance Krystian \", \"202114719 \", \"19 \", \"Adamson University \", \" BS Computer Engineering\")\n",
        "Myself.data()\n"
      ]
    }
  ]
}