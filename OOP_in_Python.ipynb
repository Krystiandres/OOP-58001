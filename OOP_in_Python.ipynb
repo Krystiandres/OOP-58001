{
  "nbformat": 4,
  "nbformat_minor": 0,
  "metadata": {
    "colab": {
      "name": "OOP in Python.ipynb",
      "provenance": [],
      "authorship_tag": "ABX9TyNFtva9lAQz/VzwNl1wu3es",
      "include_colab_link": true
    },
    "kernelspec": {
      "name": "python3",
      "display_name": "Python 3"
    },
    "language_info": {
      "name": "python"
    }
  },
  "cells": [
    {
      "cell_type": "markdown",
      "metadata": {
        "id": "view-in-github",
        "colab_type": "text"
      },
      "source": [
        "<a href=\"https://colab.research.google.com/github/Krystiandres/OOP-58001/blob/main/OOP_in_Python.ipynb\" target=\"_parent\"><img src=\"https://colab.research.google.com/assets/colab-badge.svg\" alt=\"Open In Colab\"/></a>"
      ]
    },
    {
      "cell_type": "markdown",
      "source": [
        "Create a Class"
      ],
      "metadata": {
        "id": "P7sv5Mhpqr0D"
      }
    },
    {
      "cell_type": "code",
      "execution_count": 2,
      "metadata": {
        "id": "duvXHQKkqRjE"
      },
      "outputs": [],
      "source": [
        "class MyClass:\n",
        "  pass            #to create a class without method"
      ]
    },
    {
      "cell_type": "code",
      "source": [
        "class MyClass:  #the name of the class\n",
        "  x=40          #property of the class named MyClass\n",
        "\n",
        "p1= MyClass()\n",
        "print(p1.x)"
      ],
      "metadata": {
        "colab": {
          "base_uri": "https://localhost:8080/"
        },
        "id": "dZ4xZFD9rW7m",
        "outputId": "28aeb74d-a5aa-4d6c-fe62-d0b20d2e7a70"
      },
      "execution_count": 5,
      "outputs": [
        {
          "output_type": "stream",
          "name": "stdout",
          "text": [
            "40\n"
          ]
        }
      ]
    },
    {
      "cell_type": "code",
      "source": [
        "class Car():                 #create a class\n",
        "  def __init__(self,name,color):\n",
        "    self.name = name         #represents the instance of class named car\n",
        "    self.color = color\n",
        "\n",
        "  def description(self):\n",
        "    return self.name, self.color\n",
        "\n",
        "  def display(self):\n",
        "    print(\"The name and color of the car\",self.description())\n",
        "\n",
        "obj1 = Car(\"Honda\",\"black\")  #to create an object with its attribute value\n",
        "obj1.display()\n"
      ],
      "metadata": {
        "colab": {
          "base_uri": "https://localhost:8080/"
        },
        "id": "twDZVWa0shmB",
        "outputId": "07500245-affb-44d8-cee8-ccd0a9c9f506"
      },
      "execution_count": 71,
      "outputs": [
        {
          "output_type": "stream",
          "name": "stdout",
          "text": [
            "The name and color of the car ('Honda', 'black')\n"
          ]
        }
      ]
    },
    {
      "cell_type": "markdown",
      "source": [
        "Modify an Object Property"
      ],
      "metadata": {
        "id": "Qb5Ey0EWrU-d"
      }
    },
    {
      "cell_type": "code",
      "source": [
        "obj1.name = \"Mitsubishi\"\n",
        "print(obj1.name)"
      ],
      "metadata": {
        "colab": {
          "base_uri": "https://localhost:8080/"
        },
        "id": "n0f2lbRtwxMe",
        "outputId": "2d92c73e-2551-4f6e-80f0-bae0e547fd82"
      },
      "execution_count": 76,
      "outputs": [
        {
          "output_type": "stream",
          "name": "stdout",
          "text": [
            "Mitsubishi\n"
          ]
        }
      ]
    },
    {
      "cell_type": "code",
      "source": [
        "obj1.display()"
      ],
      "metadata": {
        "colab": {
          "base_uri": "https://localhost:8080/"
        },
        "id": "zVQ2-cQpxM8F",
        "outputId": "2cd4afe1-5627-498d-bb89-4e7150e8a29b"
      },
      "execution_count": 77,
      "outputs": [
        {
          "output_type": "stream",
          "name": "stdout",
          "text": [
            "The name and color of the car ('Mitsubishi', 'black')\n"
          ]
        }
      ]
    },
    {
      "cell_type": "markdown",
      "source": [
        "Delete the Object Property"
      ],
      "metadata": {
        "id": "mmClpI_4xj7_"
      }
    },
    {
      "cell_type": "code",
      "source": [
        "class Car():                 #create a class\n",
        "  def __init__(self,name,color):\n",
        "    self.name = name         #represents the instance of class named car\n",
        "    self.color = color\n",
        "\n",
        "  def description(self):\n",
        "    return self.name, self.color\n",
        "\n",
        "  def display(self):\n",
        "    print(\"The name and color of the car\",self.description())\n",
        "\n",
        "obj1 = Car(\"Honda\",\"black\")  #to create an object with its attribute value\n",
        "obj1.display()"
      ],
      "metadata": {
        "colab": {
          "base_uri": "https://localhost:8080/"
        },
        "id": "UMAfGTfm08BW",
        "outputId": "46b057dc-cb29-46b4-c28c-70d682408dfd"
      },
      "execution_count": 78,
      "outputs": [
        {
          "output_type": "stream",
          "name": "stdout",
          "text": [
            "The name and color of the car ('Honda', 'black')\n"
          ]
        }
      ]
    },
    {
      "cell_type": "code",
      "source": [
        "del obj1\n",
        "obj1.display()\n",
        "\n"
      ],
      "metadata": {
        "colab": {
          "base_uri": "https://localhost:8080/",
          "height": 205
        },
        "id": "lvOFdQCsxo-v",
        "outputId": "cb84e49d-513e-46d7-c8a6-6823d1027c76"
      },
      "execution_count": 79,
      "outputs": [
        {
          "output_type": "error",
          "ename": "NameError",
          "evalue": "ignored",
          "traceback": [
            "\u001b[0;31m---------------------------------------------------------------------------\u001b[0m",
            "\u001b[0;31mNameError\u001b[0m                                 Traceback (most recent call last)",
            "\u001b[0;32m<ipython-input-79-d790ecdd8ee4>\u001b[0m in \u001b[0;36m<module>\u001b[0;34m()\u001b[0m\n\u001b[1;32m      1\u001b[0m \u001b[0;32mdel\u001b[0m \u001b[0mobj1\u001b[0m\u001b[0;34m\u001b[0m\u001b[0;34m\u001b[0m\u001b[0m\n\u001b[0;32m----> 2\u001b[0;31m \u001b[0mobj1\u001b[0m\u001b[0;34m.\u001b[0m\u001b[0mdisplay\u001b[0m\u001b[0;34m(\u001b[0m\u001b[0;34m)\u001b[0m\u001b[0;34m\u001b[0m\u001b[0;34m\u001b[0m\u001b[0m\n\u001b[0m\u001b[1;32m      3\u001b[0m \u001b[0;34m\u001b[0m\u001b[0m\n",
            "\u001b[0;31mNameError\u001b[0m: name 'obj1' is not defined"
          ]
        }
      ]
    },
    {
      "cell_type": "code",
      "source": [
        "obj2 = Car(\"BMW\",\"red\")\n",
        "obj2.display()"
      ],
      "metadata": {
        "colab": {
          "base_uri": "https://localhost:8080/"
        },
        "id": "9YDcX8ms0BUe",
        "outputId": "7b79af5a-00ae-4fbb-ab74-964067dce85d"
      },
      "execution_count": 69,
      "outputs": [
        {
          "output_type": "stream",
          "name": "stdout",
          "text": [
            "The name and color of the car ('BMW', 'red')\n"
          ]
        }
      ]
    },
    {
      "cell_type": "markdown",
      "source": [
        "Application 1 - Write a python program to compute the are and the perimeter of a rectangle. Using Rectangle as class name and length and width as attributes"
      ],
      "metadata": {
        "id": "EHMOEDnw1vWY"
      }
    },
    {
      "cell_type": "code",
      "source": [
        "class Rectangle():\n",
        "  def __init__(self, length, width):\n",
        "    self.length = length\n",
        "    self. width= width\n",
        "\n",
        "  def Area(self):\n",
        "    return self.length, self.width\n",
        "\n",
        "  def Perimeter(self):\n",
        "    return 2*(self.length+self.width)\n",
        "\n",
        "  def display(self):\n",
        "    print(\"The length and width is\",self.Area())\n",
        "    print(\"the perimeter of the rectangle is\",self.Perimeter())\n",
        "\n",
        "pol = Rectangle(7,4.5)\n",
        "pol.display()\n"
      ],
      "metadata": {
        "colab": {
          "base_uri": "https://localhost:8080/"
        },
        "id": "pmDXtCmv138W",
        "outputId": "0f9b5e36-0802-4d42-8a21-bf625d94f903"
      },
      "execution_count": 87,
      "outputs": [
        {
          "output_type": "stream",
          "name": "stdout",
          "text": [
            "The length and width is (7, 4.5)\n",
            "the perimeter of the rectangle is 23.0\n"
          ]
        }
      ]
    },
    {
      "cell_type": "markdown",
      "source": [
        "Application 2 - Write a python program to display a class name OOP_58001 with your student no. and fullname (Surname, First Name) as attributes"
      ],
      "metadata": {
        "id": "dIJAFoIB46Kb"
      }
    },
    {
      "cell_type": "code",
      "source": [
        "class OOP_58001:\n",
        "  pass"
      ],
      "metadata": {
        "id": "9O7tLCPP5JA3"
      },
      "execution_count": 88,
      "outputs": []
    },
    {
      "cell_type": "code",
      "source": [
        "class OOP_58001():\n",
        "  def __init__(self,student_number, fullname):\n",
        "    self.student_number = student_number\n",
        "    self.fullname = fullname\n",
        "\n",
        "  def Student_Number(self):\n",
        "    return self.student_number\n",
        "\n",
        "  def Last_Name(self):\n",
        "    return self.fullname\n",
        "\n",
        "  def First_Name(self):\n",
        "    return self.fullname\n",
        "  \n",
        "  def display(self):\n",
        "    print (self.Student_Number())\n",
        "    print (self.Last_Name())\n",
        "    print (self.Perimeter())\n",
        "\n",
        "  student = Student_Number= 202138245\n",
        "  student.display()"
      ],
      "metadata": {
        "colab": {
          "base_uri": "https://localhost:8080/",
          "height": 332
        },
        "id": "N-fheEal5izb",
        "outputId": "62f6fd23-cb11-4a6b-accc-4b0d26e2741d"
      },
      "execution_count": 92,
      "outputs": [
        {
          "output_type": "error",
          "ename": "AttributeError",
          "evalue": "ignored",
          "traceback": [
            "\u001b[0;31m---------------------------------------------------------------------------\u001b[0m",
            "\u001b[0;31mAttributeError\u001b[0m                            Traceback (most recent call last)",
            "\u001b[0;32m<ipython-input-92-8f5a6aa6d64a>\u001b[0m in \u001b[0;36m<module>\u001b[0;34m()\u001b[0m\n\u001b[0;32m----> 1\u001b[0;31m \u001b[0;32mclass\u001b[0m \u001b[0mOOP_58001\u001b[0m\u001b[0;34m(\u001b[0m\u001b[0;34m)\u001b[0m\u001b[0;34m:\u001b[0m\u001b[0;34m\u001b[0m\u001b[0;34m\u001b[0m\u001b[0m\n\u001b[0m\u001b[1;32m      2\u001b[0m   \u001b[0;32mdef\u001b[0m \u001b[0m__init__\u001b[0m\u001b[0;34m(\u001b[0m\u001b[0mself\u001b[0m\u001b[0;34m,\u001b[0m\u001b[0mstudent_number\u001b[0m\u001b[0;34m,\u001b[0m \u001b[0mfullname\u001b[0m\u001b[0;34m)\u001b[0m\u001b[0;34m:\u001b[0m\u001b[0;34m\u001b[0m\u001b[0;34m\u001b[0m\u001b[0m\n\u001b[1;32m      3\u001b[0m     \u001b[0mself\u001b[0m\u001b[0;34m.\u001b[0m\u001b[0mstudent_number\u001b[0m \u001b[0;34m=\u001b[0m \u001b[0mstudent_number\u001b[0m\u001b[0;34m\u001b[0m\u001b[0;34m\u001b[0m\u001b[0m\n\u001b[1;32m      4\u001b[0m     \u001b[0mself\u001b[0m\u001b[0;34m.\u001b[0m\u001b[0mfullname\u001b[0m \u001b[0;34m=\u001b[0m \u001b[0mfullname\u001b[0m\u001b[0;34m\u001b[0m\u001b[0;34m\u001b[0m\u001b[0m\n\u001b[1;32m      5\u001b[0m \u001b[0;34m\u001b[0m\u001b[0m\n",
            "\u001b[0;32m<ipython-input-92-8f5a6aa6d64a>\u001b[0m in \u001b[0;36mOOP_58001\u001b[0;34m()\u001b[0m\n\u001b[1;32m     19\u001b[0m \u001b[0;34m\u001b[0m\u001b[0m\n\u001b[1;32m     20\u001b[0m   \u001b[0mstudent\u001b[0m \u001b[0;34m=\u001b[0m \u001b[0mStudent_Number\u001b[0m\u001b[0;34m=\u001b[0m \u001b[0;36m202138245\u001b[0m\u001b[0;34m\u001b[0m\u001b[0;34m\u001b[0m\u001b[0m\n\u001b[0;32m---> 21\u001b[0;31m   \u001b[0mstudent\u001b[0m\u001b[0;34m.\u001b[0m\u001b[0mdisplay\u001b[0m\u001b[0;34m(\u001b[0m\u001b[0;34m)\u001b[0m\u001b[0;34m\u001b[0m\u001b[0;34m\u001b[0m\u001b[0m\n\u001b[0m",
            "\u001b[0;31mAttributeError\u001b[0m: 'int' object has no attribute 'display'"
          ]
        }
      ]
    }
  ]
}