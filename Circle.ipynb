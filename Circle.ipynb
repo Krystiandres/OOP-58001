{
  "nbformat": 4,
  "nbformat_minor": 0,
  "metadata": {
    "colab": {
      "name": "Circle.ipynb",
      "provenance": [],
      "authorship_tag": "ABX9TyNEWSS9XsV3xDPak+2UTRi+",
      "include_colab_link": true
    },
    "kernelspec": {
      "name": "python3",
      "display_name": "Python 3"
    },
    "language_info": {
      "name": "python"
    }
  },
  "cells": [
    {
      "cell_type": "markdown",
      "metadata": {
        "id": "view-in-github",
        "colab_type": "text"
      },
      "source": [
        "<a href=\"https://colab.research.google.com/github/Krystiandres/OOP-58001/blob/main/Circle.ipynb\" target=\"_parent\"><img src=\"https://colab.research.google.com/assets/colab-badge.svg\" alt=\"Open In Colab\"/></a>"
      ]
    },
    {
      "cell_type": "code",
      "execution_count": 19,
      "metadata": {
        "colab": {
          "base_uri": "https://localhost:8080/"
        },
        "id": "KartvDWsVRXc",
        "outputId": "4c69ffc8-89ba-4650-f00c-3dcd1e30f768"
      },
      "outputs": [
        {
          "output_type": "stream",
          "name": "stdout",
          "text": [
            "12\n",
            "The perimeter of the circle is  75.36\n",
            "The Area of the circle is  452.16\n"
          ]
        }
      ],
      "source": [
        "class Circle():\n",
        "  def __init__ (self, radius, pi):\n",
        "    self.radius = radius\n",
        "    self.pi = pi\n",
        "\n",
        "  def Area(self):\n",
        "   return 3.14 * (self.radius ** 2)\n",
        "\n",
        "  def Perimeter (self):\n",
        "    return 2*(self.pi*self.radius)\n",
        "\n",
        "  def display (self):\n",
        "    print(\"The perimeter of the circle is \",self.Perimeter())\n",
        "    print(\"The Area of the circle is \",self.Area())\n",
        "\n",
        "first_circle = Circle(int(input()), 3.14)\n",
        "first_circle.display()"
      ]
    }
  ]
}