{
  "nbformat": 4,
  "nbformat_minor": 0,
  "metadata": {
    "colab": {
      "name": "Fundamentals of Python.ipynb",
      "provenance": [],
      "authorship_tag": "ABX9TyNQQ+lhjwbRIXWyPYeM6lTq",
      "include_colab_link": true
    },
    "kernelspec": {
      "name": "python3",
      "display_name": "Python 3"
    },
    "language_info": {
      "name": "python"
    }
  },
  "cells": [
    {
      "cell_type": "markdown",
      "metadata": {
        "id": "view-in-github",
        "colab_type": "text"
      },
      "source": [
        "<a href=\"https://colab.research.google.com/github/Krystiandres/OOP-58001/blob/main/Fundamentals%20of%20Python.ipynb\" target=\"_parent\"><img src=\"https://colab.research.google.com/assets/colab-badge.svg\" alt=\"Open In Colab\"/></a>"
      ]
    },
    {
      "cell_type": "markdown",
      "source": [
        "#Fundamentals of Python"
      ],
      "metadata": {
        "id": "EQgAKPckkAV6"
      }
    },
    {
      "cell_type": "markdown",
      "source": [
        "Python Variables"
      ],
      "metadata": {
        "id": "yKxMP6ZQkbOt"
      }
    },
    {
      "cell_type": "code",
      "source": [
        "x=float(1)\n",
        "a,b=0,-1\n",
        "a,b,c= \"hatdog\", \"halaman\", \"hambergur\"\n",
        "\n",
        "print('sample')\n",
        "print(a)\n",
        "print(b)\n"
      ],
      "metadata": {
        "colab": {
          "base_uri": "https://localhost:8080/"
        },
        "id": "XdHoW19GkEd_",
        "outputId": "2af7a1b0-6443-4e8f-b377-034f624f4cd8"
      },
      "execution_count": 1,
      "outputs": [
        {
          "output_type": "stream",
          "name": "stdout",
          "text": [
            "sample\n",
            "hatdog\n",
            "halaman\n"
          ]
        }
      ]
    },
    {
      "cell_type": "markdown",
      "source": [
        "Casting"
      ],
      "metadata": {
        "id": "80HXaaTemNY1"
      }
    },
    {
      "cell_type": "code",
      "source": [
        "print(x)\n"
      ],
      "metadata": {
        "colab": {
          "base_uri": "https://localhost:8080/"
        },
        "id": "wm_edNE1mV7M",
        "outputId": "c95dbb2d-dfe4-4a2b-cf75-509657af9cae"
      },
      "execution_count": null,
      "outputs": [
        {
          "output_type": "stream",
          "name": "stdout",
          "text": [
            "1.0\n"
          ]
        }
      ]
    },
    {
      "cell_type": "markdown",
      "source": [
        "Type() Function"
      ],
      "metadata": {
        "id": "nMEt4V2Tms3K"
      }
    },
    {
      "cell_type": "code",
      "source": [
        "y=\"Johnny\"\n",
        "print(type(y))\n",
        "print(type(x))"
      ],
      "metadata": {
        "colab": {
          "base_uri": "https://localhost:8080/"
        },
        "id": "WrV1YdlimyUe",
        "outputId": "ca1c1f02-c652-451f-ae42-d847c091ae7e"
      },
      "execution_count": null,
      "outputs": [
        {
          "output_type": "stream",
          "name": "stdout",
          "text": [
            "<class 'str'>\n",
            "<class 'float'>\n"
          ]
        }
      ]
    },
    {
      "cell_type": "markdown",
      "source": [
        "Double quotes and single quotes"
      ],
      "metadata": {
        "id": "tiddI21nnvff"
      }
    },
    {
      "cell_type": "code",
      "source": [
        "#h=\"Maria\"\n",
        "h='Maria'\n",
        "v=1\n",
        "\n",
        "print(h)\n",
        "print(v)\n",
        "print(v+1)"
      ],
      "metadata": {
        "colab": {
          "base_uri": "https://localhost:8080/"
        },
        "id": "AvPB8NKAn0YO",
        "outputId": "defe1ac4-fb69-441c-f1ed-2d7833552c4d"
      },
      "execution_count": null,
      "outputs": [
        {
          "output_type": "stream",
          "name": "stdout",
          "text": [
            "Maria\n",
            "1\n",
            "2\n"
          ]
        }
      ]
    },
    {
      "cell_type": "markdown",
      "source": [
        "Multiple Variables"
      ],
      "metadata": {
        "id": "rr9mOt2rpDtt"
      }
    },
    {
      "cell_type": "code",
      "source": [
        "x,y,z=\"one\", \"two\", 'three'\n",
        "\n",
        "print(x)\n",
        "print(y)\n",
        "print(z)\n",
        "print(x,y,z)"
      ],
      "metadata": {
        "colab": {
          "base_uri": "https://localhost:8080/"
        },
        "id": "ryFI0s3VpG1M",
        "outputId": "910d691a-0f53-4f99-c42d-7f5d1f2516ea"
      },
      "execution_count": null,
      "outputs": [
        {
          "output_type": "stream",
          "name": "stdout",
          "text": [
            "one\n",
            "two\n",
            "three\n",
            "one two three\n"
          ]
        }
      ]
    },
    {
      "cell_type": "markdown",
      "source": [
        "One Value to Multiple Variables"
      ],
      "metadata": {
        "id": "FCxv931Bq-UN"
      }
    },
    {
      "cell_type": "code",
      "source": [
        "x= y = z = \"Stella\"\n",
        "print (x,y,z)\n",
        "print(x)\n",
        "print(y)\n",
        "print(z)"
      ],
      "metadata": {
        "colab": {
          "base_uri": "https://localhost:8080/"
        },
        "id": "TrQvd7cnqvlF",
        "outputId": "7f271eb0-3bbf-4bb9-b3c4-3c8319fa39c2"
      },
      "execution_count": null,
      "outputs": [
        {
          "output_type": "stream",
          "name": "stdout",
          "text": [
            "Stella Stella Stella\n",
            "Stella\n",
            "Stella\n",
            "Stella\n"
          ]
        }
      ]
    },
    {
      "cell_type": "markdown",
      "source": [
        "Output Variables"
      ],
      "metadata": {
        "id": "bM6u9XRQrLTV"
      }
    },
    {
      "cell_type": "code",
      "source": [
        "x= \"enjoying\"\n",
        "\n",
        "print(\"Python is \" + x)\n",
        "\n",
        "x = \"Hey\"\n",
        "y = \"Dawg\"\n",
        "\n",
        "print(x+\"\"+\" \"+y)"
      ],
      "metadata": {
        "colab": {
          "base_uri": "https://localhost:8080/"
        },
        "id": "DLceHRdprNVs",
        "outputId": "73facc0a-8c1f-46cd-f0de-41c508df7184"
      },
      "execution_count": 3,
      "outputs": [
        {
          "output_type": "stream",
          "name": "stdout",
          "text": [
            "Python is enjoying\n",
            "Hey Dawg\n"
          ]
        }
      ]
    },
    {
      "cell_type": "markdown",
      "source": [
        "Arithmetic Operations"
      ],
      "metadata": {
        "id": "TxeJWqfctVfm"
      }
    },
    {
      "cell_type": "code",
      "source": [
        "f=1\n",
        "g=2\n",
        "i=6\n",
        "\n",
        "print(f+g)\n",
        "print(f-g)\n",
        "print(f^g)\n",
        "print(int(i/g))\n",
        "print(i/3)\n",
        "print(3//g)\n",
        "print(3%g)\n",
        "print(4**3)\n",
        "\n",
        "print(6^2)\n",
        "print(2**6)"
      ],
      "metadata": {
        "colab": {
          "base_uri": "https://localhost:8080/"
        },
        "id": "LGySa_TotZ8m",
        "outputId": "2dc2170a-1938-4787-d978-f8236cbd7bfc"
      },
      "execution_count": null,
      "outputs": [
        {
          "output_type": "stream",
          "name": "stdout",
          "text": [
            "3\n",
            "-1\n",
            "3\n",
            "3\n",
            "2.0\n",
            "1\n",
            "1\n",
            "64\n",
            "4\n",
            "64\n"
          ]
        }
      ]
    },
    {
      "cell_type": "markdown",
      "source": [
        "Assignment Operators"
      ],
      "metadata": {
        "id": "m-bDcsAuxaX8"
      }
    },
    {
      "cell_type": "code",
      "source": [
        "k = 2\n",
        "l=1\n",
        "k+=3 #Same as k=k+3\n",
        "\n",
        "\n",
        "print(k)\n",
        "#print(k+=2)\n",
        "\n",
        "print(l>>1)"
      ],
      "metadata": {
        "colab": {
          "base_uri": "https://localhost:8080/"
        },
        "id": "ZpKuyr6OuGrC",
        "outputId": "90699b63-990f-4956-b9c3-baa066dca628"
      },
      "execution_count": null,
      "outputs": [
        {
          "output_type": "stream",
          "name": "stdout",
          "text": [
            "5\n",
            "0\n"
          ]
        }
      ]
    },
    {
      "cell_type": "markdown",
      "source": [
        "Boolean Operators"
      ],
      "metadata": {
        "id": "BpB-ujwbX54j"
      }
    },
    {
      "cell_type": "code",
      "source": [
        "k=2\n",
        "l=3\n",
        "print(k>>2)#shift right twice \n",
        "print(k<<2)#shift left twice"
      ],
      "metadata": {
        "id": "j7JqgutJt38b",
        "colab": {
          "base_uri": "https://localhost:8080/"
        },
        "outputId": "ca169031-d5f5-41cd-c9ee-f05fc89b59c0"
      },
      "execution_count": 4,
      "outputs": [
        {
          "output_type": "stream",
          "name": "stdout",
          "text": [
            "0\n",
            "8\n"
          ]
        }
      ]
    },
    {
      "cell_type": "markdown",
      "source": [
        "Relational Operators"
      ],
      "metadata": {
        "id": "dFOwYuM0YATw"
      }
    },
    {
      "cell_type": "code",
      "source": [
        "print(l>k) #v=1, k=2\n",
        "\n",
        "print(l==k)"
      ],
      "metadata": {
        "colab": {
          "base_uri": "https://localhost:8080/"
        },
        "id": "tepyt7wMYEa4",
        "outputId": "be0f6c9c-6660-48b2-81d7-87d85276a881"
      },
      "execution_count": 6,
      "outputs": [
        {
          "output_type": "stream",
          "name": "stdout",
          "text": [
            "True\n",
            "False\n"
          ]
        }
      ]
    },
    {
      "cell_type": "markdown",
      "source": [
        "Logical Operators"
      ],
      "metadata": {
        "id": "6Bv601PdYXmJ"
      }
    },
    {
      "cell_type": "code",
      "source": [
        "print(l<k and k==k)\n",
        "print(l<k or k==l)\n",
        "print(not (l<k or k==l))"
      ],
      "metadata": {
        "colab": {
          "base_uri": "https://localhost:8080/"
        },
        "id": "H4BN4XZqYZca",
        "outputId": "8585503a-adce-4b28-f5d4-9e4a0635ee17"
      },
      "execution_count": 8,
      "outputs": [
        {
          "output_type": "stream",
          "name": "stdout",
          "text": [
            "False\n",
            "False\n",
            "True\n"
          ]
        }
      ]
    },
    {
      "cell_type": "markdown",
      "source": [
        "Identity Operators"
      ],
      "metadata": {
        "id": "Q22XduPCYihM"
      }
    },
    {
      "cell_type": "code",
      "source": [
        "print(l is k)\n",
        "print(l is not k)"
      ],
      "metadata": {
        "colab": {
          "base_uri": "https://localhost:8080/"
        },
        "id": "CWUakuLCYli_",
        "outputId": "0dffc8f1-5ede-4332-9750-59aeb6021322"
      },
      "execution_count": 9,
      "outputs": [
        {
          "output_type": "stream",
          "name": "stdout",
          "text": [
            "False\n",
            "True\n"
          ]
        }
      ]
    }
  ]
}